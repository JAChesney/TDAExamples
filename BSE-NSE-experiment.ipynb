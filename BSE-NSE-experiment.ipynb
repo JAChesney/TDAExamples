{
 "cells": [
  {
   "cell_type": "code",
   "execution_count": 209,
   "metadata": {},
   "outputs": [],
   "source": [
    "# Standard imports for TDA\n",
    "import yfinance as yf\n",
    "import numpy as np\n",
    "import pandas as pd\n",
    "from ripser import Rips\n",
    "import ripser\n",
    "import persim\n",
    "import matplotlib.pyplot as plt\n",
    "from datetime import datetime, timedelta\n",
    "\n",
    "import warnings\n",
    "warnings.filterwarnings('ignore')"
   ]
  },
  {
   "cell_type": "code",
   "execution_count": 210,
   "metadata": {},
   "outputs": [],
   "source": [
    "# Define a list of tickers\n",
    "# tickers = ['^GSPC']\n",
    "# tickers = ['^GSPC', '^DJI', '^IXIC', '^RUT']\n",
    "tickers = ['^BSESN', '^NSEI']"
   ]
  },
  {
   "attachments": {},
   "cell_type": "markdown",
   "metadata": {},
   "source": [
    "### Fetch data from Yahoo Finance\n",
    "\n",
    "* Data is taken from 1st January 2006 to 1st January 2014.\n",
    "* The Closing prices for daily returns were taken.\n",
    "* Stock taken is the Dow Jones Index."
   ]
  },
  {
   "cell_type": "code",
   "execution_count": 211,
   "metadata": {},
   "outputs": [],
   "source": [
    "# Set the end date to today\n",
    "# end_date = datetime.today()\n",
    "end_date = '2009-01-01'"
   ]
  },
  {
   "cell_type": "code",
   "execution_count": 212,
   "metadata": {},
   "outputs": [],
   "source": [
    "# Set the start date from 2 years ago\n",
    "# start_date = end_date - timedelta(days=2*365)\n",
    "# print(start_date)\n",
    "start_date = '2007-01-01'"
   ]
  },
  {
   "cell_type": "code",
   "execution_count": 213,
   "metadata": {},
   "outputs": [
    {
     "name": "stdout",
     "output_type": "stream",
     "text": [
      "[*********************100%***********************]  1 of 1 completed\n",
      "[*********************100%***********************]  1 of 1 completed\n"
     ]
    }
   ],
   "source": [
    "# Pull data into a empty dataframe\n",
    "df = pd.DataFrame()\n",
    "\n",
    "for ticker in tickers:\n",
    "    raw_data = yf.download(ticker, start=start_date, end=end_date)\n",
    "    df = raw_data\n",
    "\n",
    "# SP500 = yf.Ticker('^BSESN')\n",
    "# raw_data = SP500.history(period=\"max\", start=start_date, end=end_date)\n",
    "# df = raw_data\n",
    "# raw_data"
   ]
  },
  {
   "cell_type": "code",
   "execution_count": 214,
   "metadata": {},
   "outputs": [
    {
     "data": {
      "text/plain": [
       "Open         0\n",
       "High         0\n",
       "Low          0\n",
       "Close        0\n",
       "Adj Close    0\n",
       "Volume       0\n",
       "dtype: int64"
      ]
     },
     "execution_count": 214,
     "metadata": {},
     "output_type": "execute_result"
    }
   ],
   "source": [
    "# Checking to see if there is any missing data\n",
    "df.isna().sum()"
   ]
  },
  {
   "cell_type": "code",
   "execution_count": 215,
   "metadata": {},
   "outputs": [
    {
     "name": "stdout",
     "output_type": "stream",
     "text": [
      "317\n"
     ]
    },
    {
     "data": {
      "text/html": [
       "<div>\n",
       "<style scoped>\n",
       "    .dataframe tbody tr th:only-of-type {\n",
       "        vertical-align: middle;\n",
       "    }\n",
       "\n",
       "    .dataframe tbody tr th {\n",
       "        vertical-align: top;\n",
       "    }\n",
       "\n",
       "    .dataframe thead th {\n",
       "        text-align: right;\n",
       "    }\n",
       "</style>\n",
       "<table border=\"1\" class=\"dataframe\">\n",
       "  <thead>\n",
       "    <tr style=\"text-align: right;\">\n",
       "      <th></th>\n",
       "      <th>Close</th>\n",
       "    </tr>\n",
       "    <tr>\n",
       "      <th>Date</th>\n",
       "      <th></th>\n",
       "    </tr>\n",
       "  </thead>\n",
       "  <tbody>\n",
       "    <tr>\n",
       "      <th>2007-09-17</th>\n",
       "      <td>4494.649902</td>\n",
       "    </tr>\n",
       "    <tr>\n",
       "      <th>2007-09-18</th>\n",
       "      <td>4546.200195</td>\n",
       "    </tr>\n",
       "    <tr>\n",
       "      <th>2007-09-19</th>\n",
       "      <td>4732.350098</td>\n",
       "    </tr>\n",
       "    <tr>\n",
       "      <th>2007-09-20</th>\n",
       "      <td>4747.549805</td>\n",
       "    </tr>\n",
       "    <tr>\n",
       "      <th>2007-09-21</th>\n",
       "      <td>4837.549805</td>\n",
       "    </tr>\n",
       "    <tr>\n",
       "      <th>...</th>\n",
       "      <td>...</td>\n",
       "    </tr>\n",
       "    <tr>\n",
       "      <th>2008-12-24</th>\n",
       "      <td>2916.850098</td>\n",
       "    </tr>\n",
       "    <tr>\n",
       "      <th>2008-12-26</th>\n",
       "      <td>2857.250000</td>\n",
       "    </tr>\n",
       "    <tr>\n",
       "      <th>2008-12-29</th>\n",
       "      <td>2922.199951</td>\n",
       "    </tr>\n",
       "    <tr>\n",
       "      <th>2008-12-30</th>\n",
       "      <td>2979.500000</td>\n",
       "    </tr>\n",
       "    <tr>\n",
       "      <th>2008-12-31</th>\n",
       "      <td>2959.149902</td>\n",
       "    </tr>\n",
       "  </tbody>\n",
       "</table>\n",
       "<p>317 rows × 1 columns</p>\n",
       "</div>"
      ],
      "text/plain": [
       "                  Close\n",
       "Date                   \n",
       "2007-09-17  4494.649902\n",
       "2007-09-18  4546.200195\n",
       "2007-09-19  4732.350098\n",
       "2007-09-20  4747.549805\n",
       "2007-09-21  4837.549805\n",
       "...                 ...\n",
       "2008-12-24  2916.850098\n",
       "2008-12-26  2857.250000\n",
       "2008-12-29  2922.199951\n",
       "2008-12-30  2979.500000\n",
       "2008-12-31  2959.149902\n",
       "\n",
       "[317 rows x 1 columns]"
      ]
     },
     "execution_count": 215,
     "metadata": {},
     "output_type": "execute_result"
    }
   ],
   "source": [
    "# Fetching only close price\n",
    "df_close = df['Close'] # Becease adj. close price considers other factors like dividends, stock splits and new stock offering.\n",
    "print(len(df_close))\n",
    "df_close = df_close.to_frame()\n",
    "df_close"
   ]
  },
  {
   "attachments": {},
   "cell_type": "markdown",
   "metadata": {},
   "source": [
    "### Prepare data cloud\n",
    "\n",
    "* Convert dataframe to numpy array.\n",
    "* Compute the Log daily return of each index."
   ]
  },
  {
   "cell_type": "code",
   "execution_count": 216,
   "metadata": {},
   "outputs": [],
   "source": [
    "# Define array of adjusted closing prices\n",
    "P = df_close.to_numpy()\n",
    "# Define array of log-returns defined as the log of the ratio between closing values of two subsequent days\n",
    "r = np.log(np.divide(P[1:],P[:len(P)-1]))"
   ]
  },
  {
   "attachments": {},
   "cell_type": "markdown",
   "metadata": {},
   "source": [
    "### Track changes in the shape of the market by looking at how the homology of the market changes over time\n",
    "\n",
    "* Initilize the object that constructs simplicial complexes from data.\n",
    "* Define a time window size which will allow us to grab a chuck of data to analyse the homology (Here w = 20).\n",
    "* Define the total number of the chucks we will have.\n",
    "* Create a numpy array that keeps track of the number that quantifies changes in homology. "
   ]
  },
  {
   "cell_type": "code",
   "execution_count": 217,
   "metadata": {},
   "outputs": [
    {
     "name": "stdout",
     "output_type": "stream",
     "text": [
      "Rips(maxdim=2, thresh=inf, coeff=2, do_cocycles=False, n_perm = None, verbose=True)\n"
     ]
    }
   ],
   "source": [
    "# Instantiate Vietoris-Rips solver\n",
    "rips = Rips(maxdim=2)\n",
    "\n",
    "# some parameters\n",
    "w = 5 # time window size\n",
    "n = len(raw_data)-(2*w)+1 # number of time segments\n",
    "wasserstein_dists = np.zeros((n,1)) # initialize array for wasserstein distances"
   ]
  },
  {
   "attachments": {},
   "cell_type": "markdown",
   "metadata": {},
   "source": [
    "### Conducting Persistent Homology\n",
    "\n",
    "* Take the first 20 rows of data and the next set of 20 rows of data to do persistent homology.\n",
    "* The `fit_transform` method is used to create four-dimensional balls around each point where each choice of radius creates a simplicial complex and the method track the holes that appear and disappear using a persistent diagram.\n",
    "* Next we quantified the overall homology between the two persistent diagrams (`dmg1` and `dmg2`) using the Wasserstein distance (a distance measure between two persistent diagrams).\n",
    "* We repeat this process for all the row of the data set."
   ]
  },
  {
   "cell_type": "code",
   "execution_count": 218,
   "metadata": {},
   "outputs": [],
   "source": [
    "# compute wasserstein distances between persitence diagrams for subsequent time windows\n",
    "for i in range(n):\n",
    "    # Compute persistence diagrams for adjacent time windows\n",
    "    dgm1 = rips.fit_transform(r[i:i+w])\n",
    "    dgm2 = rips.fit_transform(r[i+w+1:i+(2*w)+1])\n",
    "    # Compute wasserstein distance between diagrams\n",
    "    wasserstein_dists[i] = persim.wasserstein(dgm1[0], dgm2[0], matching=False)"
   ]
  },
  {
   "cell_type": "code",
   "execution_count": 219,
   "metadata": {},
   "outputs": [],
   "source": [
    "def diagram_sizes(dgms):\n",
    "    return \", \".join([f'|$H_{i}$|={len(d)}' for i, d in enumerate(dgms)])"
   ]
  },
  {
   "cell_type": "code",
   "execution_count": 220,
   "metadata": {},
   "outputs": [],
   "source": [
    "# P"
   ]
  },
  {
   "cell_type": "code",
   "execution_count": 221,
   "metadata": {},
   "outputs": [
    {
     "data": {
      "text/plain": [
       "{'dgms': [array([[0.00000000e+00, 5.02929688e-02],\n",
       "         [0.00000000e+00, 1.49902344e-01],\n",
       "         [0.00000000e+00, 2.50000000e-01],\n",
       "         [0.00000000e+00, 2.50000000e-01],\n",
       "         [0.00000000e+00, 2.50000000e-01],\n",
       "         [0.00000000e+00, 2.50000000e-01],\n",
       "         [0.00000000e+00, 4.49707031e-01],\n",
       "         [0.00000000e+00, 4.49707031e-01],\n",
       "         [0.00000000e+00, 4.50195312e-01],\n",
       "         [0.00000000e+00, 4.50195312e-01],\n",
       "         [0.00000000e+00, 5.00000000e-01],\n",
       "         [0.00000000e+00, 6.00097656e-01],\n",
       "         [0.00000000e+00, 6.00097656e-01],\n",
       "         [0.00000000e+00, 6.49902344e-01],\n",
       "         [0.00000000e+00, 6.99707031e-01],\n",
       "         [0.00000000e+00, 7.00195312e-01],\n",
       "         [0.00000000e+00, 7.99804688e-01],\n",
       "         [0.00000000e+00, 8.49853516e-01],\n",
       "         [0.00000000e+00, 8.50097656e-01],\n",
       "         [0.00000000e+00, 8.50097656e-01],\n",
       "         [0.00000000e+00, 8.50097656e-01],\n",
       "         [0.00000000e+00, 8.99902344e-01],\n",
       "         [0.00000000e+00, 8.99902344e-01],\n",
       "         [0.00000000e+00, 9.50195312e-01],\n",
       "         [0.00000000e+00, 9.50195312e-01],\n",
       "         [0.00000000e+00, 9.50195312e-01],\n",
       "         [0.00000000e+00, 1.10009766e+00],\n",
       "         [0.00000000e+00, 1.10009766e+00],\n",
       "         [0.00000000e+00, 1.10009766e+00],\n",
       "         [0.00000000e+00, 1.20019531e+00],\n",
       "         [0.00000000e+00, 1.25000000e+00],\n",
       "         [0.00000000e+00, 1.25000000e+00],\n",
       "         [0.00000000e+00, 1.29980469e+00],\n",
       "         [0.00000000e+00, 1.35009766e+00],\n",
       "         [0.00000000e+00, 1.39990234e+00],\n",
       "         [0.00000000e+00, 1.39990234e+00],\n",
       "         [0.00000000e+00, 1.44970703e+00],\n",
       "         [0.00000000e+00, 1.45019531e+00],\n",
       "         [0.00000000e+00, 1.45019531e+00],\n",
       "         [0.00000000e+00, 1.45019531e+00],\n",
       "         [0.00000000e+00, 1.50000000e+00],\n",
       "         [0.00000000e+00, 1.50000000e+00],\n",
       "         [0.00000000e+00, 1.55004883e+00],\n",
       "         [0.00000000e+00, 1.60009766e+00],\n",
       "         [0.00000000e+00, 1.64990234e+00],\n",
       "         [0.00000000e+00, 1.64990234e+00],\n",
       "         [0.00000000e+00, 1.64990234e+00],\n",
       "         [0.00000000e+00, 1.69970703e+00],\n",
       "         [0.00000000e+00, 1.69995117e+00],\n",
       "         [0.00000000e+00, 1.70019531e+00],\n",
       "         [0.00000000e+00, 1.75000000e+00],\n",
       "         [0.00000000e+00, 1.75000000e+00],\n",
       "         [0.00000000e+00, 1.79980469e+00],\n",
       "         [0.00000000e+00, 1.80029297e+00],\n",
       "         [0.00000000e+00, 1.85009766e+00],\n",
       "         [0.00000000e+00, 1.89990234e+00],\n",
       "         [0.00000000e+00, 1.89990234e+00],\n",
       "         [0.00000000e+00, 1.95019531e+00],\n",
       "         [0.00000000e+00, 2.00000000e+00],\n",
       "         [0.00000000e+00, 2.00000000e+00],\n",
       "         [0.00000000e+00, 2.04980469e+00],\n",
       "         [0.00000000e+00, 2.10009766e+00],\n",
       "         [0.00000000e+00, 2.10009766e+00],\n",
       "         [0.00000000e+00, 2.14990234e+00],\n",
       "         [0.00000000e+00, 2.14990234e+00],\n",
       "         [0.00000000e+00, 2.14990234e+00],\n",
       "         [0.00000000e+00, 2.20019531e+00],\n",
       "         [0.00000000e+00, 2.25000000e+00],\n",
       "         [0.00000000e+00, 2.25000000e+00],\n",
       "         [0.00000000e+00, 2.29980469e+00],\n",
       "         [0.00000000e+00, 2.29980469e+00],\n",
       "         [0.00000000e+00, 2.30029297e+00],\n",
       "         [0.00000000e+00, 2.30029297e+00],\n",
       "         [0.00000000e+00, 2.34960938e+00],\n",
       "         [0.00000000e+00, 2.35009766e+00],\n",
       "         [0.00000000e+00, 2.39990234e+00],\n",
       "         [0.00000000e+00, 2.39990234e+00],\n",
       "         [0.00000000e+00, 2.39990234e+00],\n",
       "         [0.00000000e+00, 2.44995117e+00],\n",
       "         [0.00000000e+00, 2.44995117e+00],\n",
       "         [0.00000000e+00, 2.45019531e+00],\n",
       "         [0.00000000e+00, 2.65039062e+00],\n",
       "         [0.00000000e+00, 2.70019531e+00],\n",
       "         [0.00000000e+00, 2.75000000e+00],\n",
       "         [0.00000000e+00, 2.75000000e+00],\n",
       "         [0.00000000e+00, 2.79980469e+00],\n",
       "         [0.00000000e+00, 2.79980469e+00],\n",
       "         [0.00000000e+00, 2.84960938e+00],\n",
       "         [0.00000000e+00, 2.85009766e+00],\n",
       "         [0.00000000e+00, 3.00000000e+00],\n",
       "         [0.00000000e+00, 3.04980469e+00],\n",
       "         [0.00000000e+00, 3.04980469e+00],\n",
       "         [0.00000000e+00, 3.14990234e+00],\n",
       "         [0.00000000e+00, 3.20019531e+00],\n",
       "         [0.00000000e+00, 3.20019531e+00],\n",
       "         [0.00000000e+00, 3.25000000e+00],\n",
       "         [0.00000000e+00, 3.25000000e+00],\n",
       "         [0.00000000e+00, 3.29980469e+00],\n",
       "         [0.00000000e+00, 3.30004883e+00],\n",
       "         [0.00000000e+00, 3.35009766e+00],\n",
       "         [0.00000000e+00, 3.39990234e+00],\n",
       "         [0.00000000e+00, 3.50000000e+00],\n",
       "         [0.00000000e+00, 3.50000000e+00],\n",
       "         [0.00000000e+00, 3.54980469e+00],\n",
       "         [0.00000000e+00, 3.54980469e+00],\n",
       "         [0.00000000e+00, 3.54980469e+00],\n",
       "         [0.00000000e+00, 3.55004883e+00],\n",
       "         [0.00000000e+00, 3.60009766e+00],\n",
       "         [0.00000000e+00, 3.64990234e+00],\n",
       "         [0.00000000e+00, 3.75000000e+00],\n",
       "         [0.00000000e+00, 3.89990234e+00],\n",
       "         [0.00000000e+00, 3.89990234e+00],\n",
       "         [0.00000000e+00, 4.00000000e+00],\n",
       "         [0.00000000e+00, 4.05029297e+00],\n",
       "         [0.00000000e+00, 4.14990234e+00],\n",
       "         [0.00000000e+00, 4.19970703e+00],\n",
       "         [0.00000000e+00, 4.20019531e+00],\n",
       "         [0.00000000e+00, 4.25000000e+00],\n",
       "         [0.00000000e+00, 4.30029297e+00],\n",
       "         [0.00000000e+00, 4.35009766e+00],\n",
       "         [0.00000000e+00, 4.39990234e+00],\n",
       "         [0.00000000e+00, 4.45019531e+00],\n",
       "         [0.00000000e+00, 4.45019531e+00],\n",
       "         [0.00000000e+00, 4.50000000e+00],\n",
       "         [0.00000000e+00, 4.50000000e+00],\n",
       "         [0.00000000e+00, 4.54980469e+00],\n",
       "         [0.00000000e+00, 4.54980469e+00],\n",
       "         [0.00000000e+00, 4.55004883e+00],\n",
       "         [0.00000000e+00, 4.64990234e+00],\n",
       "         [0.00000000e+00, 4.70019531e+00],\n",
       "         [0.00000000e+00, 4.70019531e+00],\n",
       "         [0.00000000e+00, 4.79980469e+00],\n",
       "         [0.00000000e+00, 4.79980469e+00],\n",
       "         [0.00000000e+00, 4.80029297e+00],\n",
       "         [0.00000000e+00, 4.89990234e+00],\n",
       "         [0.00000000e+00, 5.00000000e+00],\n",
       "         [0.00000000e+00, 5.04980469e+00],\n",
       "         [0.00000000e+00, 5.04980469e+00],\n",
       "         [0.00000000e+00, 5.14990234e+00],\n",
       "         [0.00000000e+00, 5.19970703e+00],\n",
       "         [0.00000000e+00, 5.20019531e+00],\n",
       "         [0.00000000e+00, 5.25000000e+00],\n",
       "         [0.00000000e+00, 5.25000000e+00],\n",
       "         [0.00000000e+00, 5.29980469e+00],\n",
       "         [0.00000000e+00, 5.40039062e+00],\n",
       "         [0.00000000e+00, 5.45019531e+00],\n",
       "         [0.00000000e+00, 5.50000000e+00],\n",
       "         [0.00000000e+00, 5.50000000e+00],\n",
       "         [0.00000000e+00, 5.75000000e+00],\n",
       "         [0.00000000e+00, 5.79980469e+00],\n",
       "         [0.00000000e+00, 5.89990234e+00],\n",
       "         [0.00000000e+00, 5.94970703e+00],\n",
       "         [0.00000000e+00, 6.00000000e+00],\n",
       "         [0.00000000e+00, 6.04980469e+00],\n",
       "         [0.00000000e+00, 6.05004883e+00],\n",
       "         [0.00000000e+00, 6.05029297e+00],\n",
       "         [0.00000000e+00, 6.14990234e+00],\n",
       "         [0.00000000e+00, 6.14990234e+00],\n",
       "         [0.00000000e+00, 6.19970703e+00],\n",
       "         [0.00000000e+00, 6.19970703e+00],\n",
       "         [0.00000000e+00, 6.25000000e+00],\n",
       "         [0.00000000e+00, 6.30029297e+00],\n",
       "         [0.00000000e+00, 6.35009766e+00],\n",
       "         [0.00000000e+00, 6.44970703e+00],\n",
       "         [0.00000000e+00, 6.45019531e+00],\n",
       "         [0.00000000e+00, 6.50000000e+00],\n",
       "         [0.00000000e+00, 6.64990234e+00],\n",
       "         [0.00000000e+00, 6.64990234e+00],\n",
       "         [0.00000000e+00, 6.65039062e+00],\n",
       "         [0.00000000e+00, 6.69970703e+00],\n",
       "         [0.00000000e+00, 6.85009766e+00],\n",
       "         [0.00000000e+00, 7.00000000e+00],\n",
       "         [0.00000000e+00, 7.04980469e+00],\n",
       "         [0.00000000e+00, 7.19970703e+00],\n",
       "         [0.00000000e+00, 7.39990234e+00],\n",
       "         [0.00000000e+00, 7.64990234e+00],\n",
       "         [0.00000000e+00, 7.70019531e+00],\n",
       "         [0.00000000e+00, 7.75000000e+00],\n",
       "         [0.00000000e+00, 7.90039062e+00],\n",
       "         [0.00000000e+00, 8.00000000e+00],\n",
       "         [0.00000000e+00, 8.05029297e+00],\n",
       "         [0.00000000e+00, 8.09960938e+00],\n",
       "         [0.00000000e+00, 8.14990234e+00],\n",
       "         [0.00000000e+00, 8.19970703e+00],\n",
       "         [0.00000000e+00, 8.20019531e+00],\n",
       "         [0.00000000e+00, 8.25000000e+00],\n",
       "         [0.00000000e+00, 8.44970703e+00],\n",
       "         [0.00000000e+00, 8.44995117e+00],\n",
       "         [0.00000000e+00, 8.50000000e+00],\n",
       "         [0.00000000e+00, 8.70019531e+00],\n",
       "         [0.00000000e+00, 8.75000000e+00],\n",
       "         [0.00000000e+00, 8.80004883e+00],\n",
       "         [0.00000000e+00, 8.85009766e+00],\n",
       "         [0.00000000e+00, 9.04980469e+00],\n",
       "         [0.00000000e+00, 9.20019531e+00],\n",
       "         [0.00000000e+00, 9.50000000e+00],\n",
       "         [0.00000000e+00, 9.75000000e+00],\n",
       "         [0.00000000e+00, 9.80029297e+00],\n",
       "         [0.00000000e+00, 1.00498047e+01],\n",
       "         [0.00000000e+00, 1.01997070e+01],\n",
       "         [0.00000000e+00, 1.02001953e+01],\n",
       "         [0.00000000e+00, 1.03000488e+01],\n",
       "         [0.00000000e+00, 1.03999023e+01],\n",
       "         [0.00000000e+00, 1.03999023e+01],\n",
       "         [0.00000000e+00, 1.03999023e+01],\n",
       "         [0.00000000e+00, 1.05000000e+01],\n",
       "         [0.00000000e+00, 1.05498047e+01],\n",
       "         [0.00000000e+00, 1.05996094e+01],\n",
       "         [0.00000000e+00, 1.06499023e+01],\n",
       "         [0.00000000e+00, 1.08000488e+01],\n",
       "         [0.00000000e+00, 1.08002930e+01],\n",
       "         [0.00000000e+00, 1.10500488e+01],\n",
       "         [0.00000000e+00, 1.10502930e+01],\n",
       "         [0.00000000e+00, 1.11999512e+01],\n",
       "         [0.00000000e+00, 1.12001953e+01],\n",
       "         [0.00000000e+00, 1.12001953e+01],\n",
       "         [0.00000000e+00, 1.15500488e+01],\n",
       "         [0.00000000e+00, 1.16000977e+01],\n",
       "         [0.00000000e+00, 1.16000977e+01],\n",
       "         [0.00000000e+00, 1.16499023e+01],\n",
       "         [0.00000000e+00, 1.20000000e+01],\n",
       "         [0.00000000e+00, 1.22500000e+01],\n",
       "         [0.00000000e+00, 1.22998047e+01],\n",
       "         [0.00000000e+00, 1.23500977e+01],\n",
       "         [0.00000000e+00, 1.26000977e+01],\n",
       "         [0.00000000e+00, 1.26499023e+01],\n",
       "         [0.00000000e+00, 1.27500000e+01],\n",
       "         [0.00000000e+00, 1.28500977e+01],\n",
       "         [0.00000000e+00, 1.28999023e+01],\n",
       "         [0.00000000e+00, 1.32001953e+01],\n",
       "         [0.00000000e+00, 1.32998047e+01],\n",
       "         [0.00000000e+00, 1.36997070e+01],\n",
       "         [0.00000000e+00, 1.37500000e+01],\n",
       "         [0.00000000e+00, 1.37500000e+01],\n",
       "         [0.00000000e+00, 1.40000000e+01],\n",
       "         [0.00000000e+00, 1.42001953e+01],\n",
       "         [0.00000000e+00, 1.43500977e+01],\n",
       "         [0.00000000e+00, 1.47001953e+01],\n",
       "         [0.00000000e+00, 1.49501953e+01],\n",
       "         [0.00000000e+00, 1.53002930e+01],\n",
       "         [0.00000000e+00, 1.57500000e+01],\n",
       "         [0.00000000e+00, 1.63500977e+01],\n",
       "         [0.00000000e+00, 1.63999023e+01],\n",
       "         [0.00000000e+00, 1.64501953e+01],\n",
       "         [0.00000000e+00, 1.68999023e+01],\n",
       "         [0.00000000e+00, 1.70502930e+01],\n",
       "         [0.00000000e+00, 1.71997070e+01],\n",
       "         [0.00000000e+00, 1.72500000e+01],\n",
       "         [0.00000000e+00, 1.73500977e+01],\n",
       "         [0.00000000e+00, 1.74501953e+01],\n",
       "         [0.00000000e+00, 1.77998047e+01],\n",
       "         [0.00000000e+00, 1.87500000e+01],\n",
       "         [0.00000000e+00, 1.89003906e+01],\n",
       "         [0.00000000e+00, 1.90000000e+01],\n",
       "         [0.00000000e+00, 1.90502930e+01],\n",
       "         [0.00000000e+00, 1.91997070e+01],\n",
       "         [0.00000000e+00, 1.92001953e+01],\n",
       "         [0.00000000e+00, 1.92500000e+01],\n",
       "         [0.00000000e+00, 1.93000488e+01],\n",
       "         [0.00000000e+00, 1.96503906e+01],\n",
       "         [0.00000000e+00, 1.96999512e+01],\n",
       "         [0.00000000e+00, 1.97500000e+01],\n",
       "         [0.00000000e+00, 2.02500000e+01],\n",
       "         [0.00000000e+00, 2.04501953e+01],\n",
       "         [0.00000000e+00, 2.07001953e+01],\n",
       "         [0.00000000e+00, 2.14499512e+01],\n",
       "         [0.00000000e+00, 2.20498047e+01],\n",
       "         [0.00000000e+00, 2.26000977e+01],\n",
       "         [0.00000000e+00, 2.28999023e+01],\n",
       "         [0.00000000e+00, 2.29499512e+01],\n",
       "         [0.00000000e+00, 2.32001953e+01],\n",
       "         [0.00000000e+00, 2.37500000e+01],\n",
       "         [0.00000000e+00, 2.38999023e+01],\n",
       "         [0.00000000e+00, 2.39501953e+01],\n",
       "         [0.00000000e+00, 2.42001953e+01],\n",
       "         [0.00000000e+00, 2.42001953e+01],\n",
       "         [0.00000000e+00, 2.42500000e+01],\n",
       "         [0.00000000e+00, 2.44499512e+01],\n",
       "         [0.00000000e+00, 2.47998047e+01],\n",
       "         [0.00000000e+00, 2.50000000e+01],\n",
       "         [0.00000000e+00, 2.50998535e+01],\n",
       "         [0.00000000e+00, 2.64003906e+01],\n",
       "         [0.00000000e+00, 2.76499023e+01],\n",
       "         [0.00000000e+00, 2.83500977e+01],\n",
       "         [0.00000000e+00, 2.84501953e+01],\n",
       "         [0.00000000e+00, 2.88999023e+01],\n",
       "         [0.00000000e+00, 2.89499512e+01],\n",
       "         [0.00000000e+00, 3.08500977e+01],\n",
       "         [0.00000000e+00, 3.17500000e+01],\n",
       "         [0.00000000e+00, 3.18999023e+01],\n",
       "         [0.00000000e+00, 3.23500977e+01],\n",
       "         [0.00000000e+00, 3.26997070e+01],\n",
       "         [0.00000000e+00, 3.34497070e+01],\n",
       "         [0.00000000e+00, 3.44001465e+01],\n",
       "         [0.00000000e+00, 3.44497070e+01],\n",
       "         [0.00000000e+00, 3.45000000e+01],\n",
       "         [0.00000000e+00, 3.56499023e+01],\n",
       "         [0.00000000e+00, 3.78500977e+01],\n",
       "         [0.00000000e+00, 3.80998535e+01],\n",
       "         [0.00000000e+00, 3.96499023e+01],\n",
       "         [0.00000000e+00, 4.01997070e+01],\n",
       "         [0.00000000e+00, 4.13500977e+01],\n",
       "         [0.00000000e+00, 4.43500977e+01],\n",
       "         [0.00000000e+00, 4.48999023e+01],\n",
       "         [0.00000000e+00, 4.53000488e+01],\n",
       "         [0.00000000e+00, 5.10000000e+01],\n",
       "         [0.00000000e+00, 5.84499512e+01],\n",
       "         [0.00000000e+00, 6.07998047e+01],\n",
       "         [0.00000000e+00, 6.26000977e+01],\n",
       "         [0.00000000e+00, 6.52001953e+01],\n",
       "         [0.00000000e+00, 8.37001953e+01],\n",
       "         [0.00000000e+00, 8.66499023e+01],\n",
       "         [0.00000000e+00, 1.52300049e+02],\n",
       "         [0.00000000e+00, 2.10099854e+02],\n",
       "         [0.00000000e+00,            inf]]),\n",
       "  array([], shape=(0, 2), dtype=float64)],\n",
       " 'cocycles': [[], []],\n",
       " 'num_edges': 40948,\n",
       " 'dperm2all': array([[   0.        ,   51.55029297,  237.70019531, ..., 1572.44995117,\n",
       "         1515.14990234, 1535.5       ],\n",
       "        [  51.55029297,    0.        ,  186.14990234, ..., 1624.00024414,\n",
       "         1566.70019531, 1587.05029297],\n",
       "        [ 237.70019531,  186.14990234,    0.        , ..., 1810.15014648,\n",
       "         1752.85009766, 1773.20019531],\n",
       "        ...,\n",
       "        [1572.44995117, 1624.00024414, 1810.15014648, ...,    0.        ,\n",
       "           57.30004883,   36.94995117],\n",
       "        [1515.14990234, 1566.70019531, 1752.85009766, ...,   57.30004883,\n",
       "            0.        ,   20.35009766],\n",
       "        [1535.5       , 1587.05029297, 1773.20019531, ...,   36.94995117,\n",
       "           20.35009766,    0.        ]]),\n",
       " 'idx_perm': array([  0,   1,   2,   3,   4,   5,   6,   7,   8,   9,  10,  11,  12,\n",
       "         13,  14,  15,  16,  17,  18,  19,  20,  21,  22,  23,  24,  25,\n",
       "         26,  27,  28,  29,  30,  31,  32,  33,  34,  35,  36,  37,  38,\n",
       "         39,  40,  41,  42,  43,  44,  45,  46,  47,  48,  49,  50,  51,\n",
       "         52,  53,  54,  55,  56,  57,  58,  59,  60,  61,  62,  63,  64,\n",
       "         65,  66,  67,  68,  69,  70,  71,  72,  73,  74,  75,  76,  77,\n",
       "         78,  79,  80,  81,  82,  83,  84,  85,  86,  87,  88,  89,  90,\n",
       "         91,  92,  93,  94,  95,  96,  97,  98,  99, 100, 101, 102, 103,\n",
       "        104, 105, 106, 107, 108, 109, 110, 111, 112, 113, 114, 115, 116,\n",
       "        117, 118, 119, 120, 121, 122, 123, 124, 125, 126, 127, 128, 129,\n",
       "        130, 131, 132, 133, 134, 135, 136, 137, 138, 139, 140, 141, 142,\n",
       "        143, 144, 145, 146, 147, 148, 149, 150, 151, 152, 153, 154, 155,\n",
       "        156, 157, 158, 159, 160, 161, 162, 163, 164, 165, 166, 167, 168,\n",
       "        169, 170, 171, 172, 173, 174, 175, 176, 177, 178, 179, 180, 181,\n",
       "        182, 183, 184, 185, 186, 187, 188, 189, 190, 191, 192, 193, 194,\n",
       "        195, 196, 197, 198, 199, 200, 201, 202, 203, 204, 205, 206, 207,\n",
       "        208, 209, 210, 211, 212, 213, 214, 215, 216, 217, 218, 219, 220,\n",
       "        221, 222, 223, 224, 225, 226, 227, 228, 229, 230, 231, 232, 233,\n",
       "        234, 235, 236, 237, 238, 239, 240, 241, 242, 243, 244, 245, 246,\n",
       "        247, 248, 249, 250, 251, 252, 253, 254, 255, 256, 257, 258, 259,\n",
       "        260, 261, 262, 263, 264, 265, 266, 267, 268, 269, 270, 271, 272,\n",
       "        273, 274, 275, 276, 277, 278, 279, 280, 281, 282, 283, 284, 285,\n",
       "        286, 287, 288, 289, 290, 291, 292, 293, 294, 295, 296, 297, 298,\n",
       "        299, 300, 301, 302, 303, 304, 305, 306, 307, 308, 309, 310, 311,\n",
       "        312, 313, 314, 315, 316]),\n",
       " 'r_cover': 0.0}"
      ]
     },
     "execution_count": 221,
     "metadata": {},
     "output_type": "execute_result"
    }
   ],
   "source": [
    "ripser.ripser(P)"
   ]
  },
  {
   "attachments": {},
   "cell_type": "markdown",
   "metadata": {},
   "source": [
    "### Plot the time series which show the quantification of consective days that the market was open."
   ]
  },
  {
   "cell_type": "code",
   "execution_count": 222,
   "metadata": {},
   "outputs": [
    {
     "data": {
      "image/png": "[encoded data removed]",
      "text/plain": [
       "<Figure size 1440x640 with 1 Axes>"
      ]
     },
     "metadata": {},
     "output_type": "display_data"
    }
   ],
   "source": [
    "# Plot wasserstein distances over time\n",
    "plt.figure(figsize=(18, 8), dpi=80)\n",
    "plt.rcParams.update({'font.size': 16})\n",
    "\n",
    "plt.plot(raw_data.index[w:n+w], wasserstein_dists)\n",
    "plt.plot(raw_data.index[w:n+w], df_close.iloc[w:n+w,0]/max(df_close.iloc[w:n+w,0]))\n",
    "plt.plot([raw_data.index[82], raw_data.index[82]], [0, 1], 'r--')\n",
    "plt.plot([raw_data.index[272], raw_data.index[272]], [0, 1], 'r--')\n",
    "plt.legend(['Wasserstein Distances', 'BSE and NSE (scaled)', 'Crash of 2007-2009'])\n",
    "plt.xlabel('Date')\n",
    "plt.title('Homology Changes Predicted Crash??')\n",
    "plt.show()\n",
    "\n",
    "# plt.savefig('Homology_example.png', dpi='figure', format=None, metadata=None, bbox_inches=None, pad_inches=0.1, facecolor='white', edgecolor='auto')"
   ]
  },
  {
   "cell_type": "code",
   "execution_count": 226,
   "metadata": {},
   "outputs": [
    {
     "data": {
      "text/plain": [
       "Timestamp('2008-10-22 00:00:00')"
      ]
     },
     "execution_count": 226,
     "metadata": {},
     "output_type": "execute_result"
    }
   ],
   "source": [
    "raw_data.index[272]"
   ]
  },
  {
   "cell_type": "code",
   "execution_count": 227,
   "metadata": {},
   "outputs": [
    {
     "data": {
      "text/plain": [
       "Timestamp('2008-01-15 00:00:00')"
      ]
     },
     "execution_count": 227,
     "metadata": {},
     "output_type": "execute_result"
    }
   ],
   "source": [
    "raw_data.index[82]"
   ]
  },
  {
   "cell_type": "code",
   "execution_count": 224,
   "metadata": {},
   "outputs": [],
   "source": [
    "# persim.plot_diagrams(raw_data.index[:56], show=True)"
   ]
  },
  {
   "cell_type": "code",
   "execution_count": null,
   "metadata": {},
   "outputs": [],
   "source": []
  }
 ],
 "metadata": {
  "kernelspec": {
   "display_name": "tdavenv",
   "language": "python",
   "name": "python3"
  },
  "language_info": {
   "codemirror_mode": {
    "name": "ipython",
    "version": 3
   },
   "file_extension": ".py",
   "mimetype": "text/x-python",
   "name": "python",
   "nbconvert_exporter": "python",
   "pygments_lexer": "ipython3",
   "version": "3.9.13"
  },
  "orig_nbformat": 4
 },
 "nbformat": 4,
 "nbformat_minor": 2
}
