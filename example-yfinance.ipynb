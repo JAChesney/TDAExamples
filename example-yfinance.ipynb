{
 "cells": [
  {
   "cell_type": "code",
   "execution_count": 2,
   "metadata": {},
   "outputs": [],
   "source": [
    "import pandas as pd\n",
    "from datetime import datetime, timedelta # timedelta represent the difference between two datetime objects also used to find the time difference of two years etc.\n",
    "import yfinance as yf"
   ]
  },
  {
   "attachments": {},
   "cell_type": "markdown",
   "metadata": {},
   "source": [
    "## 1. Define Tickers and Time Range\n",
    "\n",
    "* Retrieving the tickers based on the tickers and time range."
   ]
  },
  {
   "cell_type": "code",
   "execution_count": 3,
   "metadata": {},
   "outputs": [],
   "source": [
    "# Define the list of tickers\n",
    "tickers = ['^GSPC']"
   ]
  },
  {
   "cell_type": "code",
   "execution_count": 4,
   "metadata": {},
   "outputs": [
    {
     "name": "stdout",
     "output_type": "stream",
     "text": [
      "2023-06-10 03:12:15.735385\n"
     ]
    }
   ],
   "source": [
    "# Set the end date to today\n",
    "end_date = datetime.today()\n",
    "print(end_date)"
   ]
  },
  {
   "cell_type": "code",
   "execution_count": 5,
   "metadata": {},
   "outputs": [
    {
     "name": "stdout",
     "output_type": "stream",
     "text": [
      "2021-06-10 03:12:15.735385\n"
     ]
    }
   ],
   "source": [
    "# Set the start date from 2 years ago\n",
    "start_date = end_date - timedelta(days=2*365)\n",
    "print(start_date)"
   ]
  },
  {
   "attachments": {},
   "cell_type": "markdown",
   "metadata": {},
   "source": [
    "## 2. Download Close Prices\n"
   ]
  },
  {
   "cell_type": "code",
   "execution_count": 6,
   "metadata": {},
   "outputs": [],
   "source": [
    "# Create an empty dataframe to store the close prices\n",
    "close_df = pd.DataFrame()"
   ]
  },
  {
   "cell_type": "code",
   "execution_count": 7,
   "metadata": {},
   "outputs": [
    {
     "name": "stdout",
     "output_type": "stream",
     "text": [
      "[*********************100%***********************]  1 of 1 completed\n"
     ]
    },
    {
     "data": {
      "text/html": [
       "<div>\n",
       "<style scoped>\n",
       "    .dataframe tbody tr th:only-of-type {\n",
       "        vertical-align: middle;\n",
       "    }\n",
       "\n",
       "    .dataframe tbody tr th {\n",
       "        vertical-align: top;\n",
       "    }\n",
       "\n",
       "    .dataframe thead th {\n",
       "        text-align: right;\n",
       "    }\n",
       "</style>\n",
       "<table border=\"1\" class=\"dataframe\">\n",
       "  <thead>\n",
       "    <tr style=\"text-align: right;\">\n",
       "      <th></th>\n",
       "      <th>Open</th>\n",
       "      <th>High</th>\n",
       "      <th>Low</th>\n",
       "      <th>Close</th>\n",
       "      <th>Adj Close</th>\n",
       "      <th>Volume</th>\n",
       "    </tr>\n",
       "    <tr>\n",
       "      <th>Date</th>\n",
       "      <th></th>\n",
       "      <th></th>\n",
       "      <th></th>\n",
       "      <th></th>\n",
       "      <th></th>\n",
       "      <th></th>\n",
       "    </tr>\n",
       "  </thead>\n",
       "  <tbody>\n",
       "    <tr>\n",
       "      <th>2021-06-10</th>\n",
       "      <td>4228.560059</td>\n",
       "      <td>4249.740234</td>\n",
       "      <td>4220.339844</td>\n",
       "      <td>4239.180176</td>\n",
       "      <td>4239.180176</td>\n",
       "      <td>4408210000</td>\n",
       "    </tr>\n",
       "    <tr>\n",
       "      <th>2021-06-11</th>\n",
       "      <td>4242.899902</td>\n",
       "      <td>4248.379883</td>\n",
       "      <td>4232.250000</td>\n",
       "      <td>4247.439941</td>\n",
       "      <td>4247.439941</td>\n",
       "      <td>3815010000</td>\n",
       "    </tr>\n",
       "    <tr>\n",
       "      <th>2021-06-14</th>\n",
       "      <td>4248.310059</td>\n",
       "      <td>4255.589844</td>\n",
       "      <td>4234.069824</td>\n",
       "      <td>4255.149902</td>\n",
       "      <td>4255.149902</td>\n",
       "      <td>4151200000</td>\n",
       "    </tr>\n",
       "    <tr>\n",
       "      <th>2021-06-15</th>\n",
       "      <td>4255.279785</td>\n",
       "      <td>4257.160156</td>\n",
       "      <td>4238.350098</td>\n",
       "      <td>4246.589844</td>\n",
       "      <td>4246.589844</td>\n",
       "      <td>4048940000</td>\n",
       "    </tr>\n",
       "    <tr>\n",
       "      <th>2021-06-16</th>\n",
       "      <td>4248.870117</td>\n",
       "      <td>4251.890137</td>\n",
       "      <td>4202.450195</td>\n",
       "      <td>4223.700195</td>\n",
       "      <td>4223.700195</td>\n",
       "      <td>4538350000</td>\n",
       "    </tr>\n",
       "    <tr>\n",
       "      <th>...</th>\n",
       "      <td>...</td>\n",
       "      <td>...</td>\n",
       "      <td>...</td>\n",
       "      <td>...</td>\n",
       "      <td>...</td>\n",
       "      <td>...</td>\n",
       "    </tr>\n",
       "    <tr>\n",
       "      <th>2023-06-05</th>\n",
       "      <td>4282.990234</td>\n",
       "      <td>4299.279785</td>\n",
       "      <td>4266.819824</td>\n",
       "      <td>4273.790039</td>\n",
       "      <td>4273.790039</td>\n",
       "      <td>3813290000</td>\n",
       "    </tr>\n",
       "    <tr>\n",
       "      <th>2023-06-06</th>\n",
       "      <td>4271.339844</td>\n",
       "      <td>4288.330078</td>\n",
       "      <td>4263.089844</td>\n",
       "      <td>4283.850098</td>\n",
       "      <td>4283.850098</td>\n",
       "      <td>3996560000</td>\n",
       "    </tr>\n",
       "    <tr>\n",
       "      <th>2023-06-07</th>\n",
       "      <td>4285.470215</td>\n",
       "      <td>4299.189941</td>\n",
       "      <td>4263.959961</td>\n",
       "      <td>4267.520020</td>\n",
       "      <td>4267.520020</td>\n",
       "      <td>4537800000</td>\n",
       "    </tr>\n",
       "    <tr>\n",
       "      <th>2023-06-08</th>\n",
       "      <td>4268.689941</td>\n",
       "      <td>4298.009766</td>\n",
       "      <td>4261.069824</td>\n",
       "      <td>4293.930176</td>\n",
       "      <td>4293.930176</td>\n",
       "      <td>3826740000</td>\n",
       "    </tr>\n",
       "    <tr>\n",
       "      <th>2023-06-09</th>\n",
       "      <td>4304.879883</td>\n",
       "      <td>4322.620117</td>\n",
       "      <td>4291.700195</td>\n",
       "      <td>4298.859863</td>\n",
       "      <td>4298.859863</td>\n",
       "      <td>2141505000</td>\n",
       "    </tr>\n",
       "  </tbody>\n",
       "</table>\n",
       "<p>504 rows × 6 columns</p>\n",
       "</div>"
      ],
      "text/plain": [
       "                   Open         High          Low        Close    Adj Close  \\\n",
       "Date                                                                          \n",
       "2021-06-10  4228.560059  4249.740234  4220.339844  4239.180176  4239.180176   \n",
       "2021-06-11  4242.899902  4248.379883  4232.250000  4247.439941  4247.439941   \n",
       "2021-06-14  4248.310059  4255.589844  4234.069824  4255.149902  4255.149902   \n",
       "2021-06-15  4255.279785  4257.160156  4238.350098  4246.589844  4246.589844   \n",
       "2021-06-16  4248.870117  4251.890137  4202.450195  4223.700195  4223.700195   \n",
       "...                 ...          ...          ...          ...          ...   \n",
       "2023-06-05  4282.990234  4299.279785  4266.819824  4273.790039  4273.790039   \n",
       "2023-06-06  4271.339844  4288.330078  4263.089844  4283.850098  4283.850098   \n",
       "2023-06-07  4285.470215  4299.189941  4263.959961  4267.520020  4267.520020   \n",
       "2023-06-08  4268.689941  4298.009766  4261.069824  4293.930176  4293.930176   \n",
       "2023-06-09  4304.879883  4322.620117  4291.700195  4298.859863  4298.859863   \n",
       "\n",
       "                Volume  \n",
       "Date                    \n",
       "2021-06-10  4408210000  \n",
       "2021-06-11  3815010000  \n",
       "2021-06-14  4151200000  \n",
       "2021-06-15  4048940000  \n",
       "2021-06-16  4538350000  \n",
       "...                ...  \n",
       "2023-06-05  3813290000  \n",
       "2023-06-06  3996560000  \n",
       "2023-06-07  4537800000  \n",
       "2023-06-08  3826740000  \n",
       "2023-06-09  2141505000  \n",
       "\n",
       "[504 rows x 6 columns]"
      ]
     },
     "execution_count": 7,
     "metadata": {},
     "output_type": "execute_result"
    }
   ],
   "source": [
    "# Download the close prices for each ticker\n",
    "for ticker in tickers:\n",
    "    data = yf.download(ticker, start=start_date, end=end_date)\n",
    "    close_df[ticker] = data['Close']\n",
    "data"
   ]
  },
  {
   "attachments": {},
   "cell_type": "markdown",
   "metadata": {},
   "source": [
    "## 3. Display the DataFrame"
   ]
  },
  {
   "cell_type": "code",
   "execution_count": 8,
   "metadata": {},
   "outputs": [
    {
     "data": {
      "text/html": [
       "<div>\n",
       "<style scoped>\n",
       "    .dataframe tbody tr th:only-of-type {\n",
       "        vertical-align: middle;\n",
       "    }\n",
       "\n",
       "    .dataframe tbody tr th {\n",
       "        vertical-align: top;\n",
       "    }\n",
       "\n",
       "    .dataframe thead th {\n",
       "        text-align: right;\n",
       "    }\n",
       "</style>\n",
       "<table border=\"1\" class=\"dataframe\">\n",
       "  <thead>\n",
       "    <tr style=\"text-align: right;\">\n",
       "      <th></th>\n",
       "      <th>^GSPC</th>\n",
       "    </tr>\n",
       "    <tr>\n",
       "      <th>Date</th>\n",
       "      <th></th>\n",
       "    </tr>\n",
       "  </thead>\n",
       "  <tbody>\n",
       "    <tr>\n",
       "      <th>2021-06-10</th>\n",
       "      <td>4239.180176</td>\n",
       "    </tr>\n",
       "    <tr>\n",
       "      <th>2021-06-11</th>\n",
       "      <td>4247.439941</td>\n",
       "    </tr>\n",
       "    <tr>\n",
       "      <th>2021-06-14</th>\n",
       "      <td>4255.149902</td>\n",
       "    </tr>\n",
       "    <tr>\n",
       "      <th>2021-06-15</th>\n",
       "      <td>4246.589844</td>\n",
       "    </tr>\n",
       "    <tr>\n",
       "      <th>2021-06-16</th>\n",
       "      <td>4223.700195</td>\n",
       "    </tr>\n",
       "    <tr>\n",
       "      <th>...</th>\n",
       "      <td>...</td>\n",
       "    </tr>\n",
       "    <tr>\n",
       "      <th>2023-06-05</th>\n",
       "      <td>4273.790039</td>\n",
       "    </tr>\n",
       "    <tr>\n",
       "      <th>2023-06-06</th>\n",
       "      <td>4283.850098</td>\n",
       "    </tr>\n",
       "    <tr>\n",
       "      <th>2023-06-07</th>\n",
       "      <td>4267.520020</td>\n",
       "    </tr>\n",
       "    <tr>\n",
       "      <th>2023-06-08</th>\n",
       "      <td>4293.930176</td>\n",
       "    </tr>\n",
       "    <tr>\n",
       "      <th>2023-06-09</th>\n",
       "      <td>4298.859863</td>\n",
       "    </tr>\n",
       "  </tbody>\n",
       "</table>\n",
       "<p>504 rows × 1 columns</p>\n",
       "</div>"
      ],
      "text/plain": [
       "                  ^GSPC\n",
       "Date                   \n",
       "2021-06-10  4239.180176\n",
       "2021-06-11  4247.439941\n",
       "2021-06-14  4255.149902\n",
       "2021-06-15  4246.589844\n",
       "2021-06-16  4223.700195\n",
       "...                 ...\n",
       "2023-06-05  4273.790039\n",
       "2023-06-06  4283.850098\n",
       "2023-06-07  4267.520020\n",
       "2023-06-08  4293.930176\n",
       "2023-06-09  4298.859863\n",
       "\n",
       "[504 rows x 1 columns]"
      ]
     },
     "execution_count": 8,
     "metadata": {},
     "output_type": "execute_result"
    }
   ],
   "source": [
    "close_df"
   ]
  },
  {
   "cell_type": "code",
   "execution_count": null,
   "metadata": {},
   "outputs": [],
   "source": []
  }
 ],
 "metadata": {
  "kernelspec": {
   "display_name": "tdavenv",
   "language": "python",
   "name": "python3"
  },
  "language_info": {
   "codemirror_mode": {
    "name": "ipython",
    "version": 3
   },
   "file_extension": ".py",
   "mimetype": "text/x-python",
   "name": "python",
   "nbconvert_exporter": "python",
   "pygments_lexer": "ipython3",
   "version": "3.11.4"
  },
  "orig_nbformat": 4
 },
 "nbformat": 4,
 "nbformat_minor": 2
}
